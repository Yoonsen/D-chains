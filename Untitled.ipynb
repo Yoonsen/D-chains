{
 "cells": [
  {
   "cell_type": "code",
   "execution_count": 3,
   "id": "73c1301f-0775-457e-9146-a3bc20710ea6",
   "metadata": {},
   "outputs": [],
   "source": [
    "from transformers import AutoTokenizer, AutoModel\n",
    "import torch\n",
    "import numpy as np\n",
    "\n",
    "model_name = \"bert-base-cased\"\n",
    "tokenizer = AutoTokenizer.from_pretrained(model_name)\n",
    "model = AutoModel.from_pretrained(model_name, output_attentions=True)\n"
   ]
  },
  {
   "cell_type": "code",
   "execution_count": 4,
   "id": "42acc72e-aba6-466b-9571-f7c417924b8e",
   "metadata": {},
   "outputs": [],
   "source": [
    "text = \"John gave Mary a book\"\n",
    "inputs = tokenizer(text, return_tensors=\"pt\")\n",
    "with torch.no_grad():\n",
    "    outputs = model(**inputs)\n",
    "\n",
    "tokens = tokenizer.convert_ids_to_tokens(inputs[\"input_ids\"][0])\n",
    "attentions = outputs.attentions  # list of [batch, heads, seq_len, seq_len]\n"
   ]
  },
  {
   "cell_type": "code",
   "execution_count": 5,
   "id": "02193be1-96cc-4cda-81ef-0614123b63a6",
   "metadata": {},
   "outputs": [],
   "source": [
    "start, end = 4, 9  # Layers 4–8 (inclusive)\n",
    "attn_slice = attentions[start:end]\n",
    "avg_attention = torch.stack(attn_slice).mean(dim=0)[0].mean(dim=0).numpy()\n"
   ]
  },
  {
   "cell_type": "code",
   "execution_count": 6,
   "id": "d8bb4424-9a8f-4937-a375-3de466ce8157",
   "metadata": {},
   "outputs": [
    {
     "name": "stdout",
     "output_type": "stream",
     "text": [
      "\n",
      "Soft dependency matrix:\n",
      "     [CLS] ← [SEP]\n",
      "      John ← [SEP]\n",
      "      gave ← [SEP]\n",
      "      Mary ← [SEP]\n",
      "         a ← [SEP]\n",
      "      book ← [SEP]\n",
      "     [SEP] ← [SEP]\n"
     ]
    }
   ],
   "source": [
    "print(\"\\nSoft dependency matrix:\")\n",
    "for i, token in enumerate(tokens):\n",
    "    top_idx = np.argmax(avg_attention[i])\n",
    "    print(f\"{token:>10} ← {tokens[top_idx]}\")\n"
   ]
  },
  {
   "cell_type": "code",
   "execution_count": 9,
   "id": "252a5dbd-688b-4559-8cf3-ed120b700b6e",
   "metadata": {},
   "outputs": [],
   "source": [
    "# Instead of averaging all heads:\n",
    "head_attn = attn_slice[-1][0]  # last selected layer, batch 0: [heads, seq_len, seq_len]\n",
    "#head_attn"
   ]
  },
  {
   "cell_type": "code",
   "execution_count": 31,
   "id": "58618d2f-8d9c-4e8d-aff7-4016d859d2c0",
   "metadata": {},
   "outputs": [],
   "source": [
    "top_indices = []\n",
    "for i in range(1,6):\n",
    "    top_indices.append((i, np.argsort(avg_attention[i])[-3:]))  # top 3 attention targets\n"
   ]
  },
  {
   "cell_type": "code",
   "execution_count": 32,
   "id": "e88a5c9d-759d-4cf6-a1ed-5737800ec3be",
   "metadata": {},
   "outputs": [
    {
     "data": {
      "text/plain": [
       "[(1, array([1, 2, 6])),\n",
       " (2, array([5, 4, 6])),\n",
       " (3, array([1, 2, 6])),\n",
       " (4, array([2, 5, 6])),\n",
       " (5, array([2, 4, 6]))]"
      ]
     },
     "execution_count": 32,
     "metadata": {},
     "output_type": "execute_result"
    }
   ],
   "source": [
    "top_indices"
   ]
  }
 ],
 "metadata": {
  "kernelspec": {
   "display_name": "Python 3 (ipykernel)",
   "language": "python",
   "name": "python3"
  },
  "language_info": {
   "codemirror_mode": {
    "name": "ipython",
    "version": 3
   },
   "file_extension": ".py",
   "mimetype": "text/x-python",
   "name": "python",
   "nbconvert_exporter": "python",
   "pygments_lexer": "ipython3",
   "version": "3.11.5"
  }
 },
 "nbformat": 4,
 "nbformat_minor": 5
}
